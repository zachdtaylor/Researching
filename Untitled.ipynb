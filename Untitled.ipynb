{
 "cells": [
  {
   "cell_type": "code",
   "execution_count": 10,
   "metadata": {
    "collapsed": false
   },
   "outputs": [
    {
     "name": "stdout",
     "output_type": "stream",
     "text": [
      "False\n"
     ]
    }
   ],
   "source": [
    "def win(state, token):\n",
    "    if token == state[0] == state[1] == state[2]: return True\n",
    "    if token == state[3] == state[4] == state[5]: return True\n",
    "    if token == state[6] == state[7] == state[8]: return True\n",
    "    if token == state[0] == state[3] == state[6]: return True\n",
    "    if token == state[1] == state[4] == state[7]: return True\n",
    "    if token == state[2] == state[5] == state[8]: return True\n",
    "    if token == state[0] == state[4] == state[8]: return True\n",
    "    if token == state[6] == state[4] == state[2]: return True\n",
    "    else: return False\n",
    "    \n",
    "    \n",
    "board = ['x','o','o','o','o','x','o','x','o']\n",
    "print(win(board, 'x'))"
   ]
  }
 ],
 "metadata": {
  "kernelspec": {
   "display_name": "Python [Root]",
   "language": "python",
   "name": "Python [Root]"
  },
  "language_info": {
   "codemirror_mode": {
    "name": "ipython",
    "version": 3
   },
   "file_extension": ".py",
   "mimetype": "text/x-python",
   "name": "python",
   "nbconvert_exporter": "python",
   "pygments_lexer": "ipython3",
   "version": "3.5.2"
  }
 },
 "nbformat": 4,
 "nbformat_minor": 0
}
