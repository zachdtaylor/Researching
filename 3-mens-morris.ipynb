{
 "cells": [
  {
   "cell_type": "code",
   "execution_count": 1,
   "metadata": {
    "collapsed": false
   },
   "outputs": [],
   "source": [
    "import numpy as np\n",
    "import random\n",
    "import pdb"
   ]
  },
  {
   "cell_type": "code",
   "execution_count": 2,
   "metadata": {
    "collapsed": true
   },
   "outputs": [],
   "source": [
    "board = \"|{0}---{1}---{2}|\\n|:   :   :|\\n|{3}---{4}---{5}|\\n|:   :   :|\\n|{6}---{7}---{8}|\""
   ]
  },
  {
   "cell_type": "code",
   "execution_count": 3,
   "metadata": {
    "collapsed": false
   },
   "outputs": [],
   "source": [
    "def tie(state):\n",
    "    if 0 not in state and not win(state,1) and not win(state,2): \n",
    "        return True\n",
    "    else: return False\n",
    "    \n",
    "def win(state, token):\n",
    "    if token == state[0] == state[1] == state[2]: return True\n",
    "    elif token == state[3] == state[4] == state[5]: return True\n",
    "    elif token == state[6] == state[7] == state[8]: return True\n",
    "    elif token == state[0] == state[3] == state[6]: return True\n",
    "    elif token == state[1] == state[4] == state[7]: return True\n",
    "    elif token == state[2] == state[5] == state[8]: return True\n",
    "    elif token == state[0] == state[4] == state[8]: return True\n",
    "    elif token == state[6] == state[4] == state[2]: return True\n",
    "    else: return False"
   ]
  },
  {
   "cell_type": "code",
   "execution_count": 4,
   "metadata": {
    "collapsed": true
   },
   "outputs": [],
   "source": [
    "class Human:\n",
    "    def getType(self):\n",
    "        return \"Human\"\n",
    "\n",
    "    def playpart1(self, state):\n",
    "        move = int(input(\"Your move: \"))\n",
    "        if move >0 and move < 10:\n",
    "            return move-1\n",
    "        else:\n",
    "            raise ValueError(\"Entry must be a number between 1 and 9\")\n",
    "            \n",
    "    def playpart2(self, state):\n",
    "        piece = int(input(\"Piece to move: \"))\n",
    "        place = int(input(\"To: \"))\n",
    "        piece -= 1\n",
    "        place -= 1\n",
    "        return piece, place"
   ]
  },
  {
   "cell_type": "code",
   "execution_count": 5,
   "metadata": {
    "collapsed": false
   },
   "outputs": [],
   "source": [
    "def numX(state):\n",
    "    number_of_X = 0\n",
    "    for i in state:\n",
    "        if i == 'X': number_of_X += 1\n",
    "    return number_of_X\n",
    "\n",
    "def numO(state):\n",
    "    number_of_O = 0\n",
    "    for i in state:\n",
    "        if i == 'O': number_of_O += 1\n",
    "    return number_of_O\n",
    "\n",
    "# This function plays the game of 3 men's morris\n",
    "def playMensMorris(player1, player2):\n",
    "    numboard = [0 for j in range(9)] # Version of the board with numbers\n",
    "    XOboard = [' ' for i in range(9)] # Version of the board with X's and O's\n",
    "    print (board.format(*XOboard), '\\n')\n",
    "    \n",
    "    # Part 1... players place their pieces\n",
    "    while (numO(XOboard) < 3 or numX(XOboard) < 3):\n",
    "        player1_move = player1.playpart1(numboard)\n",
    "        numboard[player1_move], XOboard[player1_move] = 1, 'X'\n",
    "        print (board.format(*XOboard), '\\n')\n",
    "            \n",
    "        if win(XOboard, 'X'): \n",
    "            player1_type = player1.getType()\n",
    "            print(\"%s wins!\" % player1_type)\n",
    "            break\n",
    "            \n",
    "        player2_move = player2.playpart1(numboard)\n",
    "        numboard[player2_move], XOboard[player2_move] = 2, 'O'\n",
    "        print (board.format(*XOboard), '\\n')\n",
    "            \n",
    "        if win(XOboard, 'O'):\n",
    "            player2_type = player2.getType()\n",
    "            print (\"%s wins!\" % player2_type)\n",
    "            break\n",
    "    # Part 2...\n",
    "    while (True):\n",
    "        # PLAYER 1 TURN\n",
    "        old_position, new_position = player1.playpart2(numboard)\n",
    "        # set new position to be what is at old position\n",
    "        numboard[new_position] = numboard[old_position]\n",
    "        XOboard[new_position] = XOboard[old_position]\n",
    "        \n",
    "        # remove whatever was at the old position\n",
    "        numboard[old_position], XOboard[old_position] = ' ', ' '\n",
    "        print(board.format(*XOboard), '\\n')\n",
    "        \n",
    "        if (win(XOboard, 'X')):\n",
    "            player1_type = player1.getType()\n",
    "            print(\"%s wins!\" % player1_type)\n",
    "            break\n",
    "        \n",
    "        # PLAYER 2 TURN\n",
    "        old_position, new_position = player2.playpart2(numboard)\n",
    "        # set new position to be what is at old position\n",
    "        numboard[new_position] = numboard[old_position]\n",
    "        XOboard[new_position] = XOboard[old_position]\n",
    "        \n",
    "        # remove whatever was at the old position\n",
    "        numboard[old_position], XOboard[old_position] = ' ', ' '\n",
    "        print(board.format(*XOboard), '\\n')\n",
    "        \n",
    "        if (win(XOboard, 'O')):\n",
    "            player1_type = player2.getType()\n",
    "            print(\"%s wins!\" % player1_type)\n",
    "            break"
   ]
  },
  {
   "cell_type": "code",
   "execution_count": 6,
   "metadata": {
    "collapsed": false
   },
   "outputs": [],
   "source": [
    "class Random: # Random player\n",
    "    def __init__(self):\n",
    "        self.moves = []\n",
    "    \n",
    "    # Called by playpart1()\n",
    "    # Returns a random legal move in the state given\n",
    "    def legalRand(self, state):\n",
    "        possible = []\n",
    "        for i in range(len(state)):\n",
    "            if state[i] == 0:\n",
    "                possible.append(i)\n",
    "        return random.choice(possible)\n",
    "    \n",
    "    # Called by playpart2()\n",
    "    # Gets open positions in state relative to the given row and column and\n",
    "    # adds them to self.moves\n",
    "    def get_moves(self, state, row, column):\n",
    "        if (column + 1 < 3 and state[row][column + 1] == 0):\n",
    "            self.moves.append((row, column+1))\n",
    "        if (column - 1 >= 0 and state[row][column - 1] == 0):\n",
    "            self.moves.append((row,column-1))\n",
    "        if (row + 1 < 3 and state[row+1][column] == 0):\n",
    "            self.moves.append((row+1, column))\n",
    "        if (row - 1 >= 0 and state[row-1][column] == 0):\n",
    "            self.moves.append((row-1, column))\n",
    "        return\n",
    "    \n",
    "    def convert_coordinate(self, coordinate):\n",
    "        if (coordinate == (0,0)): return 0\n",
    "        elif (coordinate == (0,1)): return 1\n",
    "        elif (coordinate == (0,2)): return 2\n",
    "        elif (coordinate == (1,0)): return 3\n",
    "        elif (coordinate == (1,1)): return 4\n",
    "        elif (coordinate == (1,2)): return 5\n",
    "        elif (coordinate == (2,0)): return 6\n",
    "        elif (coordinate == (2,1)): return 7\n",
    "        elif (coordinate == (2,2)): return 8\n",
    "        \n",
    "    def playpart1(self, state):\n",
    "        return self.legalRand(state)\n",
    "    \n",
    "    def playpart2(self, state):\n",
    "        del self.moves[:]\n",
    "        move_tuples = []\n",
    "        state = np.array(state).reshape((3,3)) # Transform into 3 x 3 array\n",
    "        \n",
    "        for row in range(3):\n",
    "            for column in range(3):\n",
    "                if state[row][column] == 2:\n",
    "                    self.get_moves(state, row, column)\n",
    "                    print(\"self.moves: \", self.moves)\n",
    "                    for x in self.moves:\n",
    "                        move_tuples.append(((row, column), x))\n",
    "        print(move_tuples)\n",
    "        move = random.choice(move_tuples)\n",
    "        return self.convert_coordinate(move[0]), self.convert_coordinate(move[1])\n",
    "    \n",
    "    def getType(self):\n",
    "        return \"Random\""
   ]
  },
  {
   "cell_type": "code",
   "execution_count": 7,
   "metadata": {
    "collapsed": false
   },
   "outputs": [
    {
     "data": {
      "text/plain": [
       "0"
      ]
     },
     "execution_count": 7,
     "metadata": {},
     "output_type": "execute_result"
    }
   ],
   "source": [
    "RR = Random()\n",
    "RR.convert_coordinate((0,0))"
   ]
  },
  {
   "cell_type": "code",
   "execution_count": 8,
   "metadata": {
    "collapsed": false
   },
   "outputs": [
    {
     "name": "stdout",
     "output_type": "stream",
     "text": [
      "[[1 1 2]\n",
      " [2 0 1]\n",
      " [2 0 0]]\n",
      "self.moves:  []\n",
      "self.moves:  [(1, 1)]\n",
      "self.moves:  [(1, 1), (2, 1)]\n",
      "[((1, 0), (1, 1)), ((2, 0), (1, 1)), ((2, 0), (2, 1))]\n"
     ]
    },
    {
     "data": {
      "text/plain": [
       "(3, 4)"
      ]
     },
     "execution_count": 8,
     "metadata": {},
     "output_type": "execute_result"
    }
   ],
   "source": [
    "R = Random()\n",
    "state = [1,1,2,2,0,1,2,0,0]\n",
    "print(np.array(state).reshape(3,3))\n",
    "R.playpart2(state)"
   ]
  },
  {
   "cell_type": "code",
   "execution_count": 153,
   "metadata": {
    "collapsed": false
   },
   "outputs": [],
   "source": [
    "class QTable: # Q table player\n",
    "    def __init__(self):\n",
    "        self.Q = {} # To store the Q-values\n",
    "        \n",
    "    def get_moves(self, state, index):\n",
    "        if (index < 0 or index > 8): return False\n",
    "        if (state[index] == ' '): return True\n",
    "    \n",
    "    def random_move(self, state):\n",
    "        if state.count(1) == 3 and state.count(2) == 3:\n",
    "            for i in range(len(state)):\n",
    "                if state[i] == 'X':\n",
    "                    del self.moves[:]\n",
    "                    self.get_moves(i)\n",
    "            \n",
    "    def epsilon_greedy(self, epsilon, state):\n",
    "        if random.random() < epsilon:\n",
    "            return\n",
    "        \n",
    "    def learn(self, games = 10, lrate = 1, df = .5, epsilon = .1):\n",
    "        for game in range(games):\n",
    "            # Begin each game with an empty board\n",
    "            board_state = [0,0,0,0,0,0,0,0,0]\n",
    "        return"
   ]
  },
  {
   "cell_type": "code",
   "execution_count": 154,
   "metadata": {
    "collapsed": false
   },
   "outputs": [
    {
     "name": "stdout",
     "output_type": "stream",
     "text": [
      "| --- --- |\n",
      "|:   :   :|\n",
      "| --- --- |\n",
      "|:   :   :|\n",
      "| --- --- | \n",
      "\n",
      "Your move: 1\n",
      "|X--- --- |\n",
      "|:   :   :|\n",
      "| --- --- |\n",
      "|:   :   :|\n",
      "| --- --- | \n",
      "\n",
      "|X--- --- |\n",
      "|:   :   :|\n",
      "| --- --- |\n",
      "|:   :   :|\n",
      "| ---O--- | \n",
      "\n",
      "Your move: 2\n",
      "|X---X--- |\n",
      "|:   :   :|\n",
      "| --- --- |\n",
      "|:   :   :|\n",
      "| ---O--- | \n",
      "\n",
      "|X---X--- |\n",
      "|:   :   :|\n",
      "| ---O--- |\n",
      "|:   :   :|\n",
      "| ---O--- | \n",
      "\n",
      "Your move: 4\n",
      "|X---X--- |\n",
      "|:   :   :|\n",
      "|X---O--- |\n",
      "|:   :   :|\n",
      "| ---O--- | \n",
      "\n",
      "|X---X---O|\n",
      "|:   :   :|\n",
      "|X---O--- |\n",
      "|:   :   :|\n",
      "| ---O--- | \n",
      "\n",
      "Piece to move: 4\n",
      "To: 7\n",
      "|X---X---O|\n",
      "|:   :   :|\n",
      "| ---O--- |\n",
      "|:   :   :|\n",
      "|X---O--- | \n",
      "\n",
      "[]\n"
     ]
    },
    {
     "ename": "IndexError",
     "evalue": "Cannot choose from an empty sequence",
     "output_type": "error",
     "traceback": [
      "\u001b[0;31m---------------------------------------------------------------------------\u001b[0m",
      "\u001b[0;31mValueError\u001b[0m                                Traceback (most recent call last)",
      "\u001b[0;32m/Users/zacharytaylor/anaconda/lib/python3.5/random.py\u001b[0m in \u001b[0;36mchoice\u001b[0;34m(self, seq)\u001b[0m\n\u001b[1;32m    252\u001b[0m         \u001b[0;32mtry\u001b[0m\u001b[0;34m:\u001b[0m\u001b[0;34m\u001b[0m\u001b[0m\n\u001b[0;32m--> 253\u001b[0;31m             \u001b[0mi\u001b[0m \u001b[0;34m=\u001b[0m \u001b[0mself\u001b[0m\u001b[0;34m.\u001b[0m\u001b[0m_randbelow\u001b[0m\u001b[0;34m(\u001b[0m\u001b[0mlen\u001b[0m\u001b[0;34m(\u001b[0m\u001b[0mseq\u001b[0m\u001b[0;34m)\u001b[0m\u001b[0;34m)\u001b[0m\u001b[0;34m\u001b[0m\u001b[0m\n\u001b[0m\u001b[1;32m    254\u001b[0m         \u001b[0;32mexcept\u001b[0m \u001b[0mValueError\u001b[0m\u001b[0;34m:\u001b[0m\u001b[0;34m\u001b[0m\u001b[0m\n",
      "\u001b[0;32m/Users/zacharytaylor/anaconda/lib/python3.5/random.py\u001b[0m in \u001b[0;36m_randbelow\u001b[0;34m(self, n, int, maxsize, type, Method, BuiltinMethod)\u001b[0m\n\u001b[1;32m    229\u001b[0m             \u001b[0mk\u001b[0m \u001b[0;34m=\u001b[0m \u001b[0mn\u001b[0m\u001b[0;34m.\u001b[0m\u001b[0mbit_length\u001b[0m\u001b[0;34m(\u001b[0m\u001b[0;34m)\u001b[0m  \u001b[0;31m# don't use (n-1) here because n can be 1\u001b[0m\u001b[0;34m\u001b[0m\u001b[0m\n\u001b[0;32m--> 230\u001b[0;31m             \u001b[0mr\u001b[0m \u001b[0;34m=\u001b[0m \u001b[0mgetrandbits\u001b[0m\u001b[0;34m(\u001b[0m\u001b[0mk\u001b[0m\u001b[0;34m)\u001b[0m          \u001b[0;31m# 0 <= r < 2**k\u001b[0m\u001b[0;34m\u001b[0m\u001b[0m\n\u001b[0m\u001b[1;32m    231\u001b[0m             \u001b[0;32mwhile\u001b[0m \u001b[0mr\u001b[0m \u001b[0;34m>=\u001b[0m \u001b[0mn\u001b[0m\u001b[0;34m:\u001b[0m\u001b[0;34m\u001b[0m\u001b[0m\n",
      "\u001b[0;31mValueError\u001b[0m: number of bits must be greater than zero",
      "\nDuring handling of the above exception, another exception occurred:\n",
      "\u001b[0;31mIndexError\u001b[0m                                Traceback (most recent call last)",
      "\u001b[0;32m<ipython-input-154-85a059b44196>\u001b[0m in \u001b[0;36m<module>\u001b[0;34m()\u001b[0m\n\u001b[1;32m      1\u001b[0m \u001b[0mplayer1\u001b[0m \u001b[0;34m=\u001b[0m \u001b[0mHuman\u001b[0m\u001b[0;34m(\u001b[0m\u001b[0;34m)\u001b[0m\u001b[0;34m\u001b[0m\u001b[0m\n\u001b[1;32m      2\u001b[0m \u001b[0mplayer2\u001b[0m \u001b[0;34m=\u001b[0m \u001b[0mRandom\u001b[0m\u001b[0;34m(\u001b[0m\u001b[0;34m)\u001b[0m\u001b[0;34m\u001b[0m\u001b[0m\n\u001b[0;32m----> 3\u001b[0;31m \u001b[0mplayMensMorris\u001b[0m\u001b[0;34m(\u001b[0m\u001b[0mplayer1\u001b[0m\u001b[0;34m,\u001b[0m \u001b[0mplayer2\u001b[0m\u001b[0;34m)\u001b[0m\u001b[0;34m\u001b[0m\u001b[0m\n\u001b[0m",
      "\u001b[0;32m<ipython-input-15-1a261701b1d1>\u001b[0m in \u001b[0;36mplayMensMorris\u001b[0;34m(player1, player2)\u001b[0m\n\u001b[1;32m     54\u001b[0m \u001b[0;34m\u001b[0m\u001b[0m\n\u001b[1;32m     55\u001b[0m         \u001b[0;31m# PLAYER 2 TURN\u001b[0m\u001b[0;34m\u001b[0m\u001b[0;34m\u001b[0m\u001b[0m\n\u001b[0;32m---> 56\u001b[0;31m         \u001b[0mold_position\u001b[0m\u001b[0;34m,\u001b[0m \u001b[0mnew_position\u001b[0m \u001b[0;34m=\u001b[0m \u001b[0mplayer2\u001b[0m\u001b[0;34m.\u001b[0m\u001b[0mplaypart2\u001b[0m\u001b[0;34m(\u001b[0m\u001b[0mnumboard\u001b[0m\u001b[0;34m)\u001b[0m\u001b[0;34m\u001b[0m\u001b[0m\n\u001b[0m\u001b[1;32m     57\u001b[0m         \u001b[0;31m# set new position to be what is at old position\u001b[0m\u001b[0;34m\u001b[0m\u001b[0;34m\u001b[0m\u001b[0m\n\u001b[1;32m     58\u001b[0m         \u001b[0mnumboard\u001b[0m\u001b[0;34m[\u001b[0m\u001b[0mnew_position\u001b[0m\u001b[0;34m]\u001b[0m \u001b[0;34m=\u001b[0m \u001b[0mnumboard\u001b[0m\u001b[0;34m[\u001b[0m\u001b[0mold_position\u001b[0m\u001b[0;34m]\u001b[0m\u001b[0;34m\u001b[0m\u001b[0m\n",
      "\u001b[0;32m<ipython-input-144-211d78dcfaa3>\u001b[0m in \u001b[0;36mplaypart2\u001b[0;34m(self, state)\u001b[0m\n\u001b[1;32m     53\u001b[0m                         \u001b[0mmove_tuples\u001b[0m\u001b[0;34m.\u001b[0m\u001b[0mappend\u001b[0m\u001b[0;34m(\u001b[0m\u001b[0;34m(\u001b[0m\u001b[0;34m(\u001b[0m\u001b[0mrow\u001b[0m\u001b[0;34m,\u001b[0m \u001b[0mcolumn\u001b[0m\u001b[0;34m)\u001b[0m\u001b[0;34m,\u001b[0m \u001b[0mx\u001b[0m\u001b[0;34m)\u001b[0m\u001b[0;34m)\u001b[0m\u001b[0;34m\u001b[0m\u001b[0m\n\u001b[1;32m     54\u001b[0m         \u001b[0mprint\u001b[0m\u001b[0;34m(\u001b[0m\u001b[0mmove_tuples\u001b[0m\u001b[0;34m)\u001b[0m\u001b[0;34m\u001b[0m\u001b[0m\n\u001b[0;32m---> 55\u001b[0;31m         \u001b[0mmove\u001b[0m \u001b[0;34m=\u001b[0m \u001b[0mrandom\u001b[0m\u001b[0;34m.\u001b[0m\u001b[0mchoice\u001b[0m\u001b[0;34m(\u001b[0m\u001b[0mmove_tuples\u001b[0m\u001b[0;34m)\u001b[0m\u001b[0;34m\u001b[0m\u001b[0m\n\u001b[0m\u001b[1;32m     56\u001b[0m         \u001b[0;32mreturn\u001b[0m \u001b[0mself\u001b[0m\u001b[0;34m.\u001b[0m\u001b[0mconvert_coordinate\u001b[0m\u001b[0;34m(\u001b[0m\u001b[0mmove\u001b[0m\u001b[0;34m[\u001b[0m\u001b[0;36m0\u001b[0m\u001b[0;34m]\u001b[0m\u001b[0;34m)\u001b[0m\u001b[0;34m,\u001b[0m \u001b[0mself\u001b[0m\u001b[0;34m.\u001b[0m\u001b[0mconvert_coordinate\u001b[0m\u001b[0;34m(\u001b[0m\u001b[0mmove\u001b[0m\u001b[0;34m[\u001b[0m\u001b[0;36m1\u001b[0m\u001b[0;34m]\u001b[0m\u001b[0;34m)\u001b[0m\u001b[0;34m\u001b[0m\u001b[0m\n\u001b[1;32m     57\u001b[0m \u001b[0;34m\u001b[0m\u001b[0m\n",
      "\u001b[0;32m/Users/zacharytaylor/anaconda/lib/python3.5/random.py\u001b[0m in \u001b[0;36mchoice\u001b[0;34m(self, seq)\u001b[0m\n\u001b[1;32m    253\u001b[0m             \u001b[0mi\u001b[0m \u001b[0;34m=\u001b[0m \u001b[0mself\u001b[0m\u001b[0;34m.\u001b[0m\u001b[0m_randbelow\u001b[0m\u001b[0;34m(\u001b[0m\u001b[0mlen\u001b[0m\u001b[0;34m(\u001b[0m\u001b[0mseq\u001b[0m\u001b[0;34m)\u001b[0m\u001b[0;34m)\u001b[0m\u001b[0;34m\u001b[0m\u001b[0m\n\u001b[1;32m    254\u001b[0m         \u001b[0;32mexcept\u001b[0m \u001b[0mValueError\u001b[0m\u001b[0;34m:\u001b[0m\u001b[0;34m\u001b[0m\u001b[0m\n\u001b[0;32m--> 255\u001b[0;31m             \u001b[0;32mraise\u001b[0m \u001b[0mIndexError\u001b[0m\u001b[0;34m(\u001b[0m\u001b[0;34m'Cannot choose from an empty sequence'\u001b[0m\u001b[0;34m)\u001b[0m\u001b[0;34m\u001b[0m\u001b[0m\n\u001b[0m\u001b[1;32m    256\u001b[0m         \u001b[0;32mreturn\u001b[0m \u001b[0mseq\u001b[0m\u001b[0;34m[\u001b[0m\u001b[0mi\u001b[0m\u001b[0;34m]\u001b[0m\u001b[0;34m\u001b[0m\u001b[0m\n\u001b[1;32m    257\u001b[0m \u001b[0;34m\u001b[0m\u001b[0m\n",
      "\u001b[0;31mIndexError\u001b[0m: Cannot choose from an empty sequence"
     ]
    }
   ],
   "source": [
    "player1 = Human()\n",
    "player2 = Random()\n",
    "playMensMorris(player1, player2)"
   ]
  },
  {
   "cell_type": "code",
   "execution_count": null,
   "metadata": {
    "collapsed": true
   },
   "outputs": [],
   "source": []
  }
 ],
 "metadata": {
  "anaconda-cloud": {},
  "kernelspec": {
   "display_name": "Python [Root]",
   "language": "python",
   "name": "Python [Root]"
  },
  "language_info": {
   "codemirror_mode": {
    "name": "ipython",
    "version": 3
   },
   "file_extension": ".py",
   "mimetype": "text/x-python",
   "name": "python",
   "nbconvert_exporter": "python",
   "pygments_lexer": "ipython3",
   "version": "3.5.2"
  }
 },
 "nbformat": 4,
 "nbformat_minor": 0
}
